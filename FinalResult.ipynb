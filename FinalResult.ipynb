{
 "cells": [
  {
   "cell_type": "markdown",
   "metadata": {},
   "source": [
    " ### Steps:\n",
    "\n"
   ]
  },
  {
   "cell_type": "raw",
   "metadata": {},
   "source": [
    " 1.Importing the Relevant Libraries\n",
    " 2.Reading Data\n",
    " 3.Data Inspection\n",
    " 4.Data Cleaning\n",
    " 5.Data Pre-process\n",
    " 6.Exploratory Data Analysis\n",
    " 7.Building Model\n"
   ]
  },
  {
   "cell_type": "markdown",
   "metadata": {},
   "source": [
    "###  1.Importing the Relevant Libraries  "
   ]
  },
  {
   "cell_type": "code",
   "execution_count": 1,
   "metadata": {},
   "outputs": [],
   "source": [
    "%matplotlib inline\n",
    "\n",
    "import numpy as np\n",
    "import pandas as pd\n",
    "import matplotlib.pyplot as plt\n",
    "import seaborn as sns\n",
    "\n",
    "\n",
    "from sklearn.preprocessing import LabelEncoder\n",
    "from sklearn.model_selection import train_test_split\n",
    "\n",
    "\n",
    "\n",
    "import tensorflow as tf\n",
    "import tensorflow.keras\n",
    "from tensorflow.keras.models import Sequential\n",
    "from tensorflow.keras.layers import Dense,Embedding,LSTM\n",
    "from tensorflow.keras.layers import Dropout"
   ]
  },
  {
   "cell_type": "markdown",
   "metadata": {},
   "source": [
    "### 2.Reading Data "
   ]
  },
  {
   "cell_type": "markdown",
   "metadata": {},
   "source": [
    "#### Training Set"
   ]
  },
  {
   "cell_type": "code",
   "execution_count": 2,
   "metadata": {},
   "outputs": [],
   "source": [
    "Train_data = pd.read_csv(\"train_file.csv\")"
   ]
  },
  {
   "cell_type": "markdown",
   "metadata": {},
   "source": [
    "#### Test Set"
   ]
  },
  {
   "cell_type": "code",
   "execution_count": 3,
   "metadata": {},
   "outputs": [],
   "source": [
    "Test_data = pd.read_csv(\"test_file.csv\")"
   ]
  },
  {
   "cell_type": "code",
   "execution_count": 4,
   "metadata": {},
   "outputs": [
    {
     "data": {
      "text/html": [
       "<div>\n",
       "<style scoped>\n",
       "    .dataframe tbody tr th:only-of-type {\n",
       "        vertical-align: middle;\n",
       "    }\n",
       "\n",
       "    .dataframe tbody tr th {\n",
       "        vertical-align: top;\n",
       "    }\n",
       "\n",
       "    .dataframe thead th {\n",
       "        text-align: right;\n",
       "    }\n",
       "</style>\n",
       "<table border=\"1\" class=\"dataframe\">\n",
       "  <thead>\n",
       "    <tr style=\"text-align: right;\">\n",
       "      <th></th>\n",
       "      <th>ID</th>\n",
       "      <th>City_Code</th>\n",
       "      <th>Region_Code</th>\n",
       "      <th>Accomodation_Type</th>\n",
       "      <th>Reco_Insurance_Type</th>\n",
       "      <th>Upper_Age</th>\n",
       "      <th>Lower_Age</th>\n",
       "      <th>Is_Spouse</th>\n",
       "      <th>Health Indicator</th>\n",
       "      <th>Holding_Policy_Duration</th>\n",
       "      <th>Holding_Policy_Type</th>\n",
       "      <th>Reco_Policy_Cat</th>\n",
       "      <th>Reco_Policy_Premium</th>\n",
       "      <th>Response</th>\n",
       "    </tr>\n",
       "  </thead>\n",
       "  <tbody>\n",
       "    <tr>\n",
       "      <td>0</td>\n",
       "      <td>1</td>\n",
       "      <td>C3</td>\n",
       "      <td>3213</td>\n",
       "      <td>Rented</td>\n",
       "      <td>Individual</td>\n",
       "      <td>36</td>\n",
       "      <td>36</td>\n",
       "      <td>No</td>\n",
       "      <td>X1</td>\n",
       "      <td>14+</td>\n",
       "      <td>3.0</td>\n",
       "      <td>22</td>\n",
       "      <td>11628.0</td>\n",
       "      <td>0</td>\n",
       "    </tr>\n",
       "    <tr>\n",
       "      <td>1</td>\n",
       "      <td>2</td>\n",
       "      <td>C5</td>\n",
       "      <td>1117</td>\n",
       "      <td>Owned</td>\n",
       "      <td>Joint</td>\n",
       "      <td>75</td>\n",
       "      <td>22</td>\n",
       "      <td>No</td>\n",
       "      <td>X2</td>\n",
       "      <td>NaN</td>\n",
       "      <td>NaN</td>\n",
       "      <td>22</td>\n",
       "      <td>30510.0</td>\n",
       "      <td>0</td>\n",
       "    </tr>\n",
       "    <tr>\n",
       "      <td>2</td>\n",
       "      <td>3</td>\n",
       "      <td>C5</td>\n",
       "      <td>3732</td>\n",
       "      <td>Owned</td>\n",
       "      <td>Individual</td>\n",
       "      <td>32</td>\n",
       "      <td>32</td>\n",
       "      <td>No</td>\n",
       "      <td>NaN</td>\n",
       "      <td>1.0</td>\n",
       "      <td>1.0</td>\n",
       "      <td>19</td>\n",
       "      <td>7450.0</td>\n",
       "      <td>1</td>\n",
       "    </tr>\n",
       "    <tr>\n",
       "      <td>3</td>\n",
       "      <td>4</td>\n",
       "      <td>C24</td>\n",
       "      <td>4378</td>\n",
       "      <td>Owned</td>\n",
       "      <td>Joint</td>\n",
       "      <td>52</td>\n",
       "      <td>48</td>\n",
       "      <td>No</td>\n",
       "      <td>X1</td>\n",
       "      <td>14+</td>\n",
       "      <td>3.0</td>\n",
       "      <td>19</td>\n",
       "      <td>17780.0</td>\n",
       "      <td>0</td>\n",
       "    </tr>\n",
       "    <tr>\n",
       "      <td>4</td>\n",
       "      <td>5</td>\n",
       "      <td>C8</td>\n",
       "      <td>2190</td>\n",
       "      <td>Rented</td>\n",
       "      <td>Individual</td>\n",
       "      <td>44</td>\n",
       "      <td>44</td>\n",
       "      <td>No</td>\n",
       "      <td>X2</td>\n",
       "      <td>3.0</td>\n",
       "      <td>1.0</td>\n",
       "      <td>16</td>\n",
       "      <td>10404.0</td>\n",
       "      <td>0</td>\n",
       "    </tr>\n",
       "  </tbody>\n",
       "</table>\n",
       "</div>"
      ],
      "text/plain": [
       "   ID City_Code  Region_Code Accomodation_Type Reco_Insurance_Type  Upper_Age  \\\n",
       "0   1        C3         3213            Rented          Individual         36   \n",
       "1   2        C5         1117             Owned               Joint         75   \n",
       "2   3        C5         3732             Owned          Individual         32   \n",
       "3   4       C24         4378             Owned               Joint         52   \n",
       "4   5        C8         2190            Rented          Individual         44   \n",
       "\n",
       "   Lower_Age Is_Spouse Health Indicator Holding_Policy_Duration  \\\n",
       "0         36        No               X1                     14+   \n",
       "1         22        No               X2                     NaN   \n",
       "2         32        No              NaN                     1.0   \n",
       "3         48        No               X1                     14+   \n",
       "4         44        No               X2                     3.0   \n",
       "\n",
       "   Holding_Policy_Type  Reco_Policy_Cat  Reco_Policy_Premium  Response  \n",
       "0                  3.0               22              11628.0         0  \n",
       "1                  NaN               22              30510.0         0  \n",
       "2                  1.0               19               7450.0         1  \n",
       "3                  3.0               19              17780.0         0  \n",
       "4                  1.0               16              10404.0         0  "
      ]
     },
     "execution_count": 4,
     "metadata": {},
     "output_type": "execute_result"
    }
   ],
   "source": [
    "Train_data.head()"
   ]
  },
  {
   "cell_type": "code",
   "execution_count": 5,
   "metadata": {},
   "outputs": [
    {
     "data": {
      "text/html": [
       "<div>\n",
       "<style scoped>\n",
       "    .dataframe tbody tr th:only-of-type {\n",
       "        vertical-align: middle;\n",
       "    }\n",
       "\n",
       "    .dataframe tbody tr th {\n",
       "        vertical-align: top;\n",
       "    }\n",
       "\n",
       "    .dataframe thead th {\n",
       "        text-align: right;\n",
       "    }\n",
       "</style>\n",
       "<table border=\"1\" class=\"dataframe\">\n",
       "  <thead>\n",
       "    <tr style=\"text-align: right;\">\n",
       "      <th></th>\n",
       "      <th>ID</th>\n",
       "      <th>City_Code</th>\n",
       "      <th>Region_Code</th>\n",
       "      <th>Accomodation_Type</th>\n",
       "      <th>Reco_Insurance_Type</th>\n",
       "      <th>Upper_Age</th>\n",
       "      <th>Lower_Age</th>\n",
       "      <th>Is_Spouse</th>\n",
       "      <th>Health Indicator</th>\n",
       "      <th>Holding_Policy_Duration</th>\n",
       "      <th>Holding_Policy_Type</th>\n",
       "      <th>Reco_Policy_Cat</th>\n",
       "      <th>Reco_Policy_Premium</th>\n",
       "    </tr>\n",
       "  </thead>\n",
       "  <tbody>\n",
       "    <tr>\n",
       "      <td>0</td>\n",
       "      <td>50883</td>\n",
       "      <td>C1</td>\n",
       "      <td>156</td>\n",
       "      <td>Owned</td>\n",
       "      <td>Individual</td>\n",
       "      <td>30</td>\n",
       "      <td>30</td>\n",
       "      <td>No</td>\n",
       "      <td>NaN</td>\n",
       "      <td>6.0</td>\n",
       "      <td>3.0</td>\n",
       "      <td>5</td>\n",
       "      <td>11934.0</td>\n",
       "    </tr>\n",
       "    <tr>\n",
       "      <td>1</td>\n",
       "      <td>50884</td>\n",
       "      <td>C4</td>\n",
       "      <td>7</td>\n",
       "      <td>Owned</td>\n",
       "      <td>Joint</td>\n",
       "      <td>69</td>\n",
       "      <td>68</td>\n",
       "      <td>Yes</td>\n",
       "      <td>X1</td>\n",
       "      <td>3.0</td>\n",
       "      <td>3.0</td>\n",
       "      <td>18</td>\n",
       "      <td>32204.8</td>\n",
       "    </tr>\n",
       "    <tr>\n",
       "      <td>2</td>\n",
       "      <td>50885</td>\n",
       "      <td>C1</td>\n",
       "      <td>564</td>\n",
       "      <td>Rented</td>\n",
       "      <td>Individual</td>\n",
       "      <td>28</td>\n",
       "      <td>28</td>\n",
       "      <td>No</td>\n",
       "      <td>X3</td>\n",
       "      <td>2.0</td>\n",
       "      <td>4.0</td>\n",
       "      <td>17</td>\n",
       "      <td>9240.0</td>\n",
       "    </tr>\n",
       "    <tr>\n",
       "      <td>3</td>\n",
       "      <td>50886</td>\n",
       "      <td>C3</td>\n",
       "      <td>1177</td>\n",
       "      <td>Rented</td>\n",
       "      <td>Individual</td>\n",
       "      <td>23</td>\n",
       "      <td>23</td>\n",
       "      <td>No</td>\n",
       "      <td>X3</td>\n",
       "      <td>3.0</td>\n",
       "      <td>3.0</td>\n",
       "      <td>18</td>\n",
       "      <td>9086.0</td>\n",
       "    </tr>\n",
       "    <tr>\n",
       "      <td>4</td>\n",
       "      <td>50887</td>\n",
       "      <td>C1</td>\n",
       "      <td>951</td>\n",
       "      <td>Owned</td>\n",
       "      <td>Individual</td>\n",
       "      <td>75</td>\n",
       "      <td>75</td>\n",
       "      <td>No</td>\n",
       "      <td>X3</td>\n",
       "      <td>NaN</td>\n",
       "      <td>NaN</td>\n",
       "      <td>5</td>\n",
       "      <td>22534.0</td>\n",
       "    </tr>\n",
       "  </tbody>\n",
       "</table>\n",
       "</div>"
      ],
      "text/plain": [
       "      ID City_Code  Region_Code Accomodation_Type Reco_Insurance_Type  \\\n",
       "0  50883        C1          156             Owned          Individual   \n",
       "1  50884        C4            7             Owned               Joint   \n",
       "2  50885        C1          564            Rented          Individual   \n",
       "3  50886        C3         1177            Rented          Individual   \n",
       "4  50887        C1          951             Owned          Individual   \n",
       "\n",
       "   Upper_Age  Lower_Age Is_Spouse Health Indicator Holding_Policy_Duration  \\\n",
       "0         30         30        No              NaN                     6.0   \n",
       "1         69         68       Yes               X1                     3.0   \n",
       "2         28         28        No               X3                     2.0   \n",
       "3         23         23        No               X3                     3.0   \n",
       "4         75         75        No               X3                     NaN   \n",
       "\n",
       "   Holding_Policy_Type  Reco_Policy_Cat  Reco_Policy_Premium  \n",
       "0                  3.0                5              11934.0  \n",
       "1                  3.0               18              32204.8  \n",
       "2                  4.0               17               9240.0  \n",
       "3                  3.0               18               9086.0  \n",
       "4                  NaN                5              22534.0  "
      ]
     },
     "execution_count": 5,
     "metadata": {},
     "output_type": "execute_result"
    }
   ],
   "source": [
    "Test_data.head()"
   ]
  },
  {
   "cell_type": "markdown",
   "metadata": {},
   "source": [
    "### 3.Data Inspection "
   ]
  },
  {
   "cell_type": "code",
   "execution_count": 6,
   "metadata": {},
   "outputs": [
    {
     "name": "stdout",
     "output_type": "stream",
     "text": [
      "Train_data_shape: (50882, 14)\n",
      "Test_data_shape: (21805, 13)\n"
     ]
    }
   ],
   "source": [
    "print(f\"Train_data_shape: {Train_data.shape}\\nTest_data_shape: {Test_data.shape}\")"
   ]
  },
  {
   "cell_type": "markdown",
   "metadata": {},
   "source": [
    "#### Training Set consist 50882 rows and 14 columns in Train Set whereas Test set consist 21805 rows and 13 columns."
   ]
  },
  {
   "cell_type": "code",
   "execution_count": 7,
   "metadata": {},
   "outputs": [
    {
     "name": "stdout",
     "output_type": "stream",
     "text": [
      "Train_Data:\n",
      "ID                             0\n",
      "City_Code                      0\n",
      "Region_Code                    0\n",
      "Accomodation_Type              0\n",
      "Reco_Insurance_Type            0\n",
      "Upper_Age                      0\n",
      "Lower_Age                      0\n",
      "Is_Spouse                      0\n",
      "Health Indicator           11691\n",
      "Holding_Policy_Duration    20251\n",
      "Holding_Policy_Type        20251\n",
      "Reco_Policy_Cat                0\n",
      "Reco_Policy_Premium            0\n",
      "Response                       0\n",
      "dtype: int64,\n",
      "\n",
      "\n",
      "Test_Data:\n",
      "ID                            0\n",
      "City_Code                     0\n",
      "Region_Code                   0\n",
      "Accomodation_Type             0\n",
      "Reco_Insurance_Type           0\n",
      "Upper_Age                     0\n",
      "Lower_Age                     0\n",
      "Is_Spouse                     0\n",
      "Health Indicator           5027\n",
      "Holding_Policy_Duration    8603\n",
      "Holding_Policy_Type        8603\n",
      "Reco_Policy_Cat               0\n",
      "Reco_Policy_Premium           0\n",
      "dtype: int64\n"
     ]
    }
   ],
   "source": [
    "print(f'Train_Data:\\n{Train_data.isnull().sum()},\\n\\n\\nTest_Data:\\n{Test_data.isnull().sum()}')"
   ]
  },
  {
   "cell_type": "code",
   "execution_count": 8,
   "metadata": {},
   "outputs": [
    {
     "data": {
      "text/plain": [
       "ID                          0.000000\n",
       "City_Code                   0.000000\n",
       "Region_Code                 0.000000\n",
       "Accomodation_Type           0.000000\n",
       "Reco_Insurance_Type         0.000000\n",
       "Upper_Age                   0.000000\n",
       "Lower_Age                   0.000000\n",
       "Is_Spouse                   0.000000\n",
       "Health Indicator           22.976691\n",
       "Holding_Policy_Duration    39.799929\n",
       "Holding_Policy_Type        39.799929\n",
       "Reco_Policy_Cat             0.000000\n",
       "Reco_Policy_Premium         0.000000\n",
       "Response                    0.000000\n",
       "dtype: float64"
      ]
     },
     "execution_count": 8,
     "metadata": {},
     "output_type": "execute_result"
    }
   ],
   "source": [
    "Train_data.isnull().sum()/Train_data.shape[0]*100"
   ]
  },
  {
   "cell_type": "raw",
   "metadata": {},
   "source": [
    "In Training_data\n",
    "\n",
    "22.97 % of Health Indicator having Null value. \n",
    "39.79 % of Holding_Policy_Durationhaving Null value.\n",
    "39.79 % of Holding_Policy_Type having Null value."
   ]
  },
  {
   "cell_type": "code",
   "execution_count": 9,
   "metadata": {},
   "outputs": [
    {
     "data": {
      "text/plain": [
       "ID                          0.000000\n",
       "City_Code                   0.000000\n",
       "Region_Code                 0.000000\n",
       "Accomodation_Type           0.000000\n",
       "Reco_Insurance_Type         0.000000\n",
       "Upper_Age                   0.000000\n",
       "Lower_Age                   0.000000\n",
       "Is_Spouse                   0.000000\n",
       "Health Indicator           23.054345\n",
       "Holding_Policy_Duration    39.454254\n",
       "Holding_Policy_Type        39.454254\n",
       "Reco_Policy_Cat             0.000000\n",
       "Reco_Policy_Premium         0.000000\n",
       "dtype: float64"
      ]
     },
     "execution_count": 9,
     "metadata": {},
     "output_type": "execute_result"
    }
   ],
   "source": [
    "Test_data.isnull().sum()/Test_data.shape[0]*100"
   ]
  },
  {
   "cell_type": "raw",
   "metadata": {},
   "source": [
    "In Test_data\n",
    "\n",
    "23.05 % of Health Indicator having Null value. \n",
    "39.45 % of Holding_Policy_Durationhaving Null value.\n",
    "39.45 % of Holding_Policy_Type having Null value."
   ]
  },
  {
   "cell_type": "code",
   "execution_count": 10,
   "metadata": {},
   "outputs": [
    {
     "data": {
      "text/plain": [
       "ID                           int64\n",
       "City_Code                   object\n",
       "Region_Code                  int64\n",
       "Accomodation_Type           object\n",
       "Reco_Insurance_Type         object\n",
       "Upper_Age                    int64\n",
       "Lower_Age                    int64\n",
       "Is_Spouse                   object\n",
       "Health Indicator            object\n",
       "Holding_Policy_Duration     object\n",
       "Holding_Policy_Type        float64\n",
       "Reco_Policy_Cat              int64\n",
       "Reco_Policy_Premium        float64\n",
       "Response                     int64\n",
       "dtype: object"
      ]
     },
     "execution_count": 10,
     "metadata": {},
     "output_type": "execute_result"
    }
   ],
   "source": [
    "Train_data.dtypes"
   ]
  },
  {
   "cell_type": "markdown",
   "metadata": {},
   "source": [
    "#### categorical & numerical features in Training and Test data set"
   ]
  },
  {
   "cell_type": "code",
   "execution_count": 11,
   "metadata": {},
   "outputs": [
    {
     "name": "stdout",
     "output_type": "stream",
     "text": [
      "Categorical Features in Train Set: 6\n",
      "Numerical Features in Train Set: 8\n"
     ]
    }
   ],
   "source": [
    "#categorical features\n",
    "categorical = Train_data.select_dtypes(include =[np.object])\n",
    "print(\"Categorical Features in Train Set:\",categorical.shape[1])\n",
    "\n",
    "#numerical features\n",
    "numerical= Train_data.select_dtypes(include =[np.float64,np.int64])\n",
    "print(\"Numerical Features in Train Set:\",numerical.shape[1])"
   ]
  },
  {
   "cell_type": "markdown",
   "metadata": {},
   "source": [
    "Categorical Features in Train Set: 6 &\n",
    "Numerical Features in Train Set: 8"
   ]
  },
  {
   "cell_type": "code",
   "execution_count": 12,
   "metadata": {},
   "outputs": [
    {
     "name": "stdout",
     "output_type": "stream",
     "text": [
      "Categorical Features in Train Set: 6\n",
      "Numerical Features in Train Set: 7\n"
     ]
    }
   ],
   "source": [
    "#categorical features\n",
    "categorical = Test_data.select_dtypes(include =[np.object])\n",
    "print(\"Categorical Features in Train Set:\",categorical.shape[1])\n",
    "\n",
    "#numerical features\n",
    "numerical= Test_data.select_dtypes(include =[np.float64,np.int64])\n",
    "print(\"Numerical Features in Train Set:\",numerical.shape[1])"
   ]
  },
  {
   "cell_type": "markdown",
   "metadata": {},
   "source": [
    "Categorical Features in Test Set: 6 &\n",
    "Numerical Features in Test Set: 7"
   ]
  },
  {
   "cell_type": "markdown",
   "metadata": {},
   "source": [
    "### 4.Data Cleaning"
   ]
  },
  {
   "cell_type": "code",
   "execution_count": 13,
   "metadata": {},
   "outputs": [],
   "source": [
    "Train_data['Holding_Policy_Duration']=Train_data['Holding_Policy_Duration'].astype(str)\n",
    "Test_data['Holding_Policy_Duration']=Train_data['Holding_Policy_Duration'].astype(str)"
   ]
  },
  {
   "cell_type": "code",
   "execution_count": 14,
   "metadata": {},
   "outputs": [],
   "source": [
    "# To remove '+' sign from 'Holding_Policy_Duration'\n",
    "\n",
    "%timeit\n",
    "Train_data['Holding_Policy_Duration']=Train_data['Holding_Policy_Duration'].apply(lambda x: x.strip('+'))\n",
    "\n",
    "Test_data['Holding_Policy_Duration']=Test_data['Holding_Policy_Duration'].apply(lambda x: x.strip('+'))"
   ]
  },
  {
   "cell_type": "code",
   "execution_count": 15,
   "metadata": {},
   "outputs": [],
   "source": [
    "#To find the mean of NULL value\n",
    "\n",
    "Train_data['Holding_Policy_Type'] =Train_data['Holding_Policy_Type'].fillna(Train_data['Holding_Policy_Type'].mean())\n",
    "Test_data['Holding_Policy_Type'] =Test_data['Holding_Policy_Type'].fillna(Train_data['Holding_Policy_Type'].mean())"
   ]
  },
  {
   "cell_type": "code",
   "execution_count": 16,
   "metadata": {},
   "outputs": [],
   "source": [
    "Train_data['Holding_Policy_Duration']=Train_data['Holding_Policy_Duration'].astype(float)\n",
    "Test_data['Holding_Policy_Duration']=Train_data['Holding_Policy_Duration'].astype(float)"
   ]
  },
  {
   "cell_type": "code",
   "execution_count": 17,
   "metadata": {},
   "outputs": [],
   "source": [
    "#To find the mean of NULL value\n",
    "\n",
    "Train_data['Holding_Policy_Duration'] =Train_data['Holding_Policy_Duration'].fillna(Train_data['Holding_Policy_Duration'].mean())\n",
    "Test_data['Holding_Policy_Duration'] =Test_data['Holding_Policy_Duration'].fillna(Train_data['Holding_Policy_Duration'].mean())"
   ]
  },
  {
   "cell_type": "code",
   "execution_count": 18,
   "metadata": {},
   "outputs": [],
   "source": [
    "Train_data['Holding_Policy_Duration']=Train_data['Holding_Policy_Duration'].astype(int)\n",
    "Test_data['Holding_Policy_Duration']=Train_data['Holding_Policy_Duration'].astype(int)\n",
    "Train_data['Holding_Policy_Type']=Train_data['Holding_Policy_Type'].astype(int)\n",
    "Test_data['Holding_Policy_Type']=Train_data['Holding_Policy_Type'].astype(int)"
   ]
  },
  {
   "cell_type": "code",
   "execution_count": 19,
   "metadata": {},
   "outputs": [],
   "source": [
    "#To find the mode of NULL value\n",
    "\n",
    "Train_data['Health Indicator'] =Train_data['Health Indicator'].fillna(Train_data['Health Indicator'].mode()[0])\n",
    "Test_data['Health Indicator'] =Test_data['Health Indicator'].fillna(Test_data['Health Indicator'].mode()[0])"
   ]
  },
  {
   "cell_type": "code",
   "execution_count": 20,
   "metadata": {},
   "outputs": [],
   "source": [
    "Train_data['Health Indicator'].replace(['X1','X2','X3','X4','X5','X6','X7','X8','X9'],[1,2,3,4,5,6,7,8,9],inplace =True)\n",
    "Test_data['Health Indicator'].replace(['X1','X2','X3','X4','X5','X6','X7','X8','X9'],[1,2,3,4,5,6,7,8,9],inplace =True)"
   ]
  },
  {
   "cell_type": "code",
   "execution_count": 21,
   "metadata": {},
   "outputs": [],
   "source": [
    " Train_set=Train_data.drop(columns = ['ID','City_Code','Region_Code',], axis='columns')"
   ]
  },
  {
   "cell_type": "markdown",
   "metadata": {},
   "source": [
    "### 5.Data Pre-process\n"
   ]
  },
  {
   "cell_type": "code",
   "execution_count": 22,
   "metadata": {},
   "outputs": [],
   "source": [
    "le = LabelEncoder()\n",
    "\n",
    "Train_dta= Train_set[['Accomodation_Type','Reco_Insurance_Type','Is_Spouse']].apply(le.fit_transform)\n",
    "\n"
   ]
  },
  {
   "cell_type": "code",
   "execution_count": 23,
   "metadata": {},
   "outputs": [],
   "source": [
    "Train_df = Train_set.drop(columns = ['Accomodation_Type','Reco_Insurance_Type','Is_Spouse'], axis='columns')"
   ]
  },
  {
   "cell_type": "code",
   "execution_count": 24,
   "metadata": {},
   "outputs": [],
   "source": [
    "Training_set =  pd.concat([Train_df,Train_dta],axis = 'columns')"
   ]
  },
  {
   "cell_type": "code",
   "execution_count": 25,
   "metadata": {},
   "outputs": [],
   "source": [
    "Test_set=Test_data.drop(columns = ['ID','City_Code','Region_Code',], axis='columns')"
   ]
  },
  {
   "cell_type": "code",
   "execution_count": 26,
   "metadata": {},
   "outputs": [],
   "source": [
    "le = LabelEncoder()\n",
    "\n",
    "Test_dta= Test_set[['Accomodation_Type','Reco_Insurance_Type','Is_Spouse']].apply(le.fit_transform)\n",
    "\n"
   ]
  },
  {
   "cell_type": "code",
   "execution_count": 27,
   "metadata": {},
   "outputs": [],
   "source": [
    "Test_df = Test_set.drop(columns = ['Accomodation_Type','Reco_Insurance_Type','Is_Spouse'], axis='columns')"
   ]
  },
  {
   "cell_type": "code",
   "execution_count": 28,
   "metadata": {},
   "outputs": [],
   "source": [
    "Testing_set =  pd.concat([Test_df,Test_dta],axis = 'columns')"
   ]
  },
  {
   "cell_type": "code",
   "execution_count": null,
   "metadata": {},
   "outputs": [],
   "source": []
  },
  {
   "cell_type": "markdown",
   "metadata": {},
   "source": [
    "### 6.Exploratory Data Analysis "
   ]
  },
  {
   "cell_type": "markdown",
   "metadata": {},
   "source": [
    "#### The Below Fig shows Holding Policy Duration Vs Helth Indicator"
   ]
  },
  {
   "attachments": {
    "HoldingPolicy%20%20Vs%20HelthIndicator.PNG": {
     "image/png": "[encoded data removed]"
    }
   },
   "cell_type": "markdown",
   "metadata": {},
   "source": [
    "\n",
    "![HoldingPolicy%20%20Vs%20HelthIndicator.PNG](attachment:HoldingPolicy%20%20Vs%20HelthIndicator.PNG)"
   ]
  },
  {
   "cell_type": "markdown",
   "metadata": {},
   "source": [
    "#### The Below Fig shows Holding Policy AND Holding PolicyType Vs Is Spouse"
   ]
  },
  {
   "attachments": {
    "Holding%20Policy.PNG": {
     "image/png": "[encoded data removed]"
    }
   },
   "cell_type": "markdown",
   "metadata": {},
   "source": [
    "![Holding%20Policy.PNG](attachment:Holding%20Policy.PNG)"
   ]
  },
  {
   "cell_type": "markdown",
   "metadata": {},
   "source": [
    "### The Below Fig shows Holding Policy VS Health Indicator"
   ]
  },
  {
   "attachments": {
    "Holding%20Type.PNG": {
     "image/png": "[encoded data removed]"
    }
   },
   "cell_type": "markdown",
   "metadata": {},
   "source": [
    "![Holding%20Type.PNG](attachment:Holding%20Type.PNG)"
   ]
  },
  {
   "cell_type": "markdown",
   "metadata": {},
   "source": [
    "#### The Below Fig shows Holding Policy_Type VS health indicator"
   ]
  },
  {
   "attachments": {
    "Policy_type.PNG": {
     "image/png": "[encoded data removed]"
    }
   },
   "cell_type": "markdown",
   "metadata": {},
   "source": [
    "![Policy_type.PNG](attachment:Policy_type.PNG)"
   ]
  },
  {
   "cell_type": "markdown",
   "metadata": {},
   "source": [
    "#### The Below Fig shows reco Policy  Premium AND Policy Cat VS Insurence Type"
   ]
  },
  {
   "attachments": {
    "Reco_type.PNG": {
     "image/png": "[encoded data removed]"
    }
   },
   "cell_type": "markdown",
   "metadata": {},
   "source": [
    "![Reco_type.PNG](attachment:Reco_type.PNG)"
   ]
  },
  {
   "cell_type": "markdown",
   "metadata": {},
   "source": [
    "#### The Below Fig shows Responce VS Is_Spouse"
   ]
  },
  {
   "attachments": {
    "Responce.PNG": {
     "image/png": "[encoded data removed]"
    }
   },
   "cell_type": "markdown",
   "metadata": {},
   "source": [
    "![Responce.PNG](attachment:Responce.PNG)"
   ]
  },
  {
   "cell_type": "markdown",
   "metadata": {},
   "source": [
    "### Splitting the Train Data Set "
   ]
  },
  {
   "cell_type": "code",
   "execution_count": 29,
   "metadata": {},
   "outputs": [],
   "source": [
    "X= Training_set.drop(columns = ['Response'], axis=1)\n",
    "y= Training_set['Response']"
   ]
  },
  {
   "cell_type": "code",
   "execution_count": 30,
   "metadata": {},
   "outputs": [],
   "source": [
    "# 20% data as validation set\n",
    "X_train,X_valid,y_train,y_valid = train_test_split(X,y,test_size=0.2,random_state=32)"
   ]
  },
  {
   "cell_type": "code",
   "execution_count": 31,
   "metadata": {},
   "outputs": [],
   "source": [
    "from sklearn.preprocessing import MinMaxScaler\n",
    "sc = MinMaxScaler()\n",
    "X_train = sc.fit_transform(X_train)\n",
    "X_test = sc.transform(X_valid)"
   ]
  },
  {
   "cell_type": "markdown",
   "metadata": {},
   "source": [
    "### 7.Building Model "
   ]
  },
  {
   "cell_type": "code",
   "execution_count": 32,
   "metadata": {},
   "outputs": [],
   "source": [
    "# Initialising the ANN\n",
    "classifier = Sequential()\n",
    "\n",
    "# Adding the input layer and the first hidden layer\n",
    "classifier.add(Dense(units = 624,kernel_initializer='he_uniform',activation='relu',input_dim = 10))\n",
    "\n",
    "# Adding the second hidden layer\n",
    "classifier.add(Dense(units = 512, kernel_initializer = 'he_uniform',activation='relu'))\n",
    "tf.keras.layers.Dropout( \n",
    "    0.5 \n",
    ") \n",
    "\n",
    "\n",
    "\n",
    "classifier.add(Dense(units = 420, kernel_initializer = 'he_uniform',activation='relu'))\n",
    "tf.keras.layers.Dropout( \n",
    "    0.2 \n",
    ") \n",
    "classifier.add(Dense(units = 350, kernel_initializer = 'he_uniform',activation='relu'))\n",
    "tf.keras.layers.Dropout( \n",
    "    0.4\n",
    ") \n",
    "classifier.add(Dense(units = 240, kernel_initializer = 'he_uniform',activation='relu'))\n",
    "tf.keras.layers.Dropout( \n",
    "    0.2 \n",
    ") \n",
    "classifier.add(Dense(units = 150, kernel_initializer = 'he_uniform',activation='relu'))\n",
    "tf.keras.layers.Dropout( \n",
    "    0.2 \n",
    ") \n",
    "classifier.add(Dense(units = 64, kernel_initializer = 'he_uniform',activation='relu'))\n",
    "tf.keras.layers.Dropout( \n",
    "    0.2 \n",
    ") \n",
    "classifier.add(Dense(units = 32, kernel_initializer = 'he_uniform',activation='relu'))\n",
    "tf.keras.layers.Dropout( \n",
    "    0.2 \n",
    ") \n",
    "classifier.add(Dense(units = 16, kernel_initializer = 'he_uniform',activation='relu'))\n",
    "# Adding the output layer\n",
    "classifier.add(Dense(units = 1, kernel_initializer = 'glorot_uniform', activation = 'sigmoid'))\n",
    "\n",
    "\n",
    "\n",
    "\n",
    "\n",
    "\n",
    "\n",
    "\n"
   ]
  },
  {
   "cell_type": "code",
   "execution_count": 33,
   "metadata": {},
   "outputs": [],
   "source": [
    "classifier.compile(optimizer = 'rmsprop', loss = 'binary_crossentropy', metrics = ['accuracy'])"
   ]
  },
  {
   "cell_type": "code",
   "execution_count": 34,
   "metadata": {},
   "outputs": [
    {
     "name": "stdout",
     "output_type": "stream",
     "text": [
      "Model: \"sequential\"\n",
      "_________________________________________________________________\n",
      "Layer (type)                 Output Shape              Param #   \n",
      "=================================================================\n",
      "dense (Dense)                (None, 624)               6864      \n",
      "_________________________________________________________________\n",
      "dense_1 (Dense)              (None, 512)               320000    \n",
      "_________________________________________________________________\n",
      "dense_2 (Dense)              (None, 420)               215460    \n",
      "_________________________________________________________________\n",
      "dense_3 (Dense)              (None, 350)               147350    \n",
      "_________________________________________________________________\n",
      "dense_4 (Dense)              (None, 240)               84240     \n",
      "_________________________________________________________________\n",
      "dense_5 (Dense)              (None, 150)               36150     \n",
      "_________________________________________________________________\n",
      "dense_6 (Dense)              (None, 64)                9664      \n",
      "_________________________________________________________________\n",
      "dense_7 (Dense)              (None, 32)                2080      \n",
      "_________________________________________________________________\n",
      "dense_8 (Dense)              (None, 16)                528       \n",
      "_________________________________________________________________\n",
      "dense_9 (Dense)              (None, 1)                 17        \n",
      "=================================================================\n",
      "Total params: 822,353\n",
      "Trainable params: 822,353\n",
      "Non-trainable params: 0\n",
      "_________________________________________________________________\n"
     ]
    }
   ],
   "source": [
    "classifier.summary()"
   ]
  },
  {
   "cell_type": "code",
   "execution_count": 35,
   "metadata": {},
   "outputs": [
    {
     "name": "stdout",
     "output_type": "stream",
     "text": [
      "Train on 32564 samples, validate on 8141 samples\n",
      "Epoch 1/50\n",
      "32564/32564 [==============================] - 18s 550us/sample - loss: 0.5581 - accuracy: 0.7592 - val_loss: 0.5603 - val_accuracy: 0.7547\n",
      "Epoch 2/50\n",
      "32564/32564 [==============================] - 16s 492us/sample - loss: 0.5454 - accuracy: 0.7619 - val_loss: 0.5515 - val_accuracy: 0.7547\n",
      "Epoch 3/50\n",
      "32564/32564 [==============================] - 16s 483us/sample - loss: 0.5435 - accuracy: 0.7619 - val_loss: 0.5557 - val_accuracy: 0.7547\n",
      "Epoch 4/50\n",
      "32564/32564 [==============================] - 16s 483us/sample - loss: 0.5433 - accuracy: 0.7617 - val_loss: 0.5677 - val_accuracy: 0.7547\n",
      "Epoch 5/50\n",
      "32564/32564 [==============================] - 16s 487us/sample - loss: 0.5437 - accuracy: 0.7618 - val_loss: 0.5810 - val_accuracy: 0.7547\n",
      "Epoch 6/50\n",
      "32564/32564 [==============================] - 16s 479us/sample - loss: 0.5427 - accuracy: 0.7619 - val_loss: 0.5512 - val_accuracy: 0.7547\n",
      "Epoch 7/50\n",
      "32564/32564 [==============================] - 16s 483us/sample - loss: 0.5429 - accuracy: 0.7619 - val_loss: 0.5487 - val_accuracy: 0.7547\n",
      "Epoch 8/50\n",
      "32564/32564 [==============================] - 15s 467us/sample - loss: 0.5435 - accuracy: 0.7619 - val_loss: 0.6153 - val_accuracy: 0.7547\n",
      "Epoch 9/50\n",
      "32564/32564 [==============================] - 16s 496us/sample - loss: 0.5431 - accuracy: 0.7619 - val_loss: 0.5532 - val_accuracy: 0.7546\n",
      "Epoch 10/50\n",
      "32564/32564 [==============================] - 17s 522us/sample - loss: 0.5466 - accuracy: 0.7618 - val_loss: 0.5573 - val_accuracy: 0.7547\n",
      "Epoch 11/50\n",
      "32564/32564 [==============================] - 17s 517us/sample - loss: 0.5450 - accuracy: 0.7618 - val_loss: 0.5605 - val_accuracy: 0.7547\n",
      "Epoch 12/50\n",
      "32564/32564 [==============================] - 16s 498us/sample - loss: 0.5428 - accuracy: 0.7619 - val_loss: 0.5695 - val_accuracy: 0.7547\n",
      "Epoch 13/50\n",
      "32564/32564 [==============================] - 17s 519us/sample - loss: 0.5431 - accuracy: 0.7619 - val_loss: 0.6857 - val_accuracy: 0.7547\n",
      "Epoch 14/50\n",
      "32564/32564 [==============================] - 17s 513us/sample - loss: 0.5429 - accuracy: 0.7616 - val_loss: 0.5522 - val_accuracy: 0.7547\n",
      "Epoch 15/50\n",
      "32564/32564 [==============================] - 17s 526us/sample - loss: 0.5436 - accuracy: 0.7618 - val_loss: 0.5505 - val_accuracy: 0.7547\n",
      "Epoch 16/50\n",
      "32564/32564 [==============================] - 17s 517us/sample - loss: 0.5448 - accuracy: 0.7617 - val_loss: 0.5485 - val_accuracy: 0.7547\n",
      "Epoch 17/50\n",
      "32564/32564 [==============================] - 17s 529us/sample - loss: 0.5445 - accuracy: 0.7619 - val_loss: 0.5495 - val_accuracy: 0.7547\n",
      "Epoch 18/50\n",
      "32564/32564 [==============================] - 17s 513us/sample - loss: 0.5434 - accuracy: 0.7618 - val_loss: 0.5511 - val_accuracy: 0.7547\n",
      "Epoch 19/50\n",
      "32564/32564 [==============================] - 17s 523us/sample - loss: 0.5440 - accuracy: 0.7619 - val_loss: 0.5492 - val_accuracy: 0.7547\n",
      "Epoch 20/50\n",
      "32564/32564 [==============================] - 17s 523us/sample - loss: 0.5446 - accuracy: 0.7619 - val_loss: 0.5474 - val_accuracy: 0.7547\n",
      "Epoch 21/50\n",
      "32564/32564 [==============================] - 17s 524us/sample - loss: 0.5420 - accuracy: 0.7619 - val_loss: 0.6395 - val_accuracy: 0.7547\n",
      "Epoch 22/50\n",
      "32564/32564 [==============================] - 17s 520us/sample - loss: 0.5432 - accuracy: 0.7619 - val_loss: 0.5497 - val_accuracy: 0.7547\n",
      "Epoch 23/50\n",
      "32564/32564 [==============================] - 17s 517us/sample - loss: 0.5415 - accuracy: 0.7619 - val_loss: 0.5488 - val_accuracy: 0.7547\n",
      "Epoch 24/50\n",
      "32564/32564 [==============================] - 16s 500us/sample - loss: 0.5439 - accuracy: 0.7617 - val_loss: 0.5474 - val_accuracy: 0.7547\n",
      "Epoch 25/50\n",
      "32564/32564 [==============================] - 17s 520us/sample - loss: 0.5460 - accuracy: 0.7619 - val_loss: 0.5598 - val_accuracy: 0.7547\n",
      "Epoch 26/50\n",
      "32564/32564 [==============================] - 16s 503us/sample - loss: 0.5516 - accuracy: 0.7618 - val_loss: 0.5516 - val_accuracy: 0.7547\n",
      "Epoch 27/50\n",
      "32564/32564 [==============================] - 18s 560us/sample - loss: 0.5435 - accuracy: 0.7619 - val_loss: 0.5582 - val_accuracy: 0.7547\n",
      "Epoch 28/50\n",
      "32564/32564 [==============================] - 17s 521us/sample - loss: 0.5451 - accuracy: 0.7619 - val_loss: 0.5487 - val_accuracy: 0.7547\n",
      "Epoch 29/50\n",
      "32564/32564 [==============================] - 17s 520us/sample - loss: 0.5454 - accuracy: 0.7619 - val_loss: 0.5471 - val_accuracy: 0.7547\n",
      "Epoch 30/50\n",
      "32564/32564 [==============================] - 17s 516us/sample - loss: 0.5418 - accuracy: 0.7619 - val_loss: 0.5476 - val_accuracy: 0.7547\n",
      "Epoch 31/50\n",
      "32564/32564 [==============================] - 17s 515us/sample - loss: 0.5418 - accuracy: 0.7619 - val_loss: 0.5475 - val_accuracy: 0.7547\n",
      "Epoch 32/50\n",
      "32564/32564 [==============================] - 17s 529us/sample - loss: 0.5420 - accuracy: 0.7619 - val_loss: 0.5501 - val_accuracy: 0.7547\n",
      "Epoch 33/50\n",
      "32564/32564 [==============================] - 16s 506us/sample - loss: 0.5433 - accuracy: 0.7618 - val_loss: 0.5495 - val_accuracy: 0.7547\n",
      "Epoch 34/50\n",
      "32564/32564 [==============================] - 17s 516us/sample - loss: 0.5446 - accuracy: 0.7619 - val_loss: 0.5479 - val_accuracy: 0.7547\n",
      "Epoch 35/50\n",
      "32564/32564 [==============================] - 16s 484us/sample - loss: 0.5422 - accuracy: 0.7616 - val_loss: 0.5558 - val_accuracy: 0.7547\n",
      "Epoch 36/50\n",
      "32564/32564 [==============================] - 17s 518us/sample - loss: 0.5425 - accuracy: 0.7618 - val_loss: 0.5654 - val_accuracy: 0.7547\n",
      "Epoch 37/50\n",
      "32564/32564 [==============================] - 16s 502us/sample - loss: 0.5438 - accuracy: 0.7619 - val_loss: 0.5506 - val_accuracy: 0.7547\n",
      "Epoch 38/50\n",
      "32564/32564 [==============================] - 17s 520us/sample - loss: 0.5436 - accuracy: 0.7619 - val_loss: 0.5572 - val_accuracy: 0.7547\n",
      "Epoch 39/50\n",
      "32564/32564 [==============================] - 17s 517us/sample - loss: 0.5456 - accuracy: 0.7619 - val_loss: 0.5478 - val_accuracy: 0.7547\n",
      "Epoch 40/50\n",
      "32564/32564 [==============================] - 17s 522us/sample - loss: 0.5624 - accuracy: 0.7619 - val_loss: 0.5540 - val_accuracy: 0.7547\n",
      "Epoch 41/50\n",
      "32564/32564 [==============================] - 17s 514us/sample - loss: 0.5528 - accuracy: 0.7615 - val_loss: 0.5680 - val_accuracy: 0.7547\n",
      "Epoch 42/50\n",
      "32564/32564 [==============================] - 17s 516us/sample - loss: 0.5520 - accuracy: 0.7616 - val_loss: 0.5489 - val_accuracy: 0.7547\n",
      "Epoch 43/50\n",
      "32564/32564 [==============================] - 17s 512us/sample - loss: 0.5459 - accuracy: 0.7616 - val_loss: 0.5482 - val_accuracy: 0.7547\n",
      "Epoch 44/50\n",
      "32564/32564 [==============================] - 17s 533us/sample - loss: 0.5450 - accuracy: 0.7619 - val_loss: 0.5516 - val_accuracy: 0.7547\n",
      "Epoch 45/50\n",
      "32564/32564 [==============================] - 17s 516us/sample - loss: 0.5422 - accuracy: 0.7619 - val_loss: 0.5566 - val_accuracy: 0.7547\n",
      "Epoch 46/50\n",
      "32564/32564 [==============================] - 17s 525us/sample - loss: 0.5509 - accuracy: 0.7616 - val_loss: 0.5482 - val_accuracy: 0.7547\n",
      "Epoch 47/50\n",
      "32564/32564 [==============================] - 17s 524us/sample - loss: 0.5482 - accuracy: 0.7619 - val_loss: 0.5513 - val_accuracy: 0.7547\n",
      "Epoch 48/50\n",
      "32564/32564 [==============================] - 17s 526us/sample - loss: 0.5483 - accuracy: 0.7617 - val_loss: 0.5705 - val_accuracy: 0.7547\n",
      "Epoch 49/50\n",
      "32564/32564 [==============================] - 17s 529us/sample - loss: 0.5493 - accuracy: 0.7619 - val_loss: 0.5572 - val_accuracy: 0.7547\n",
      "Epoch 50/50\n",
      "32564/32564 [==============================] - 17s 532us/sample - loss: 0.5489 - accuracy: 0.7619 - val_loss: 0.5573 - val_accuracy: 0.7547\n"
     ]
    }
   ],
   "source": [
    "# Fitting the ANN to the Training set\n",
    "model_history=classifier.fit(X_train, y_train,validation_split=0.20, batch_size = 32,epochs = 50)"
   ]
  },
  {
   "cell_type": "code",
   "execution_count": 36,
   "metadata": {},
   "outputs": [
    {
     "name": "stdout",
     "output_type": "stream",
     "text": [
      "10177/10177 [==============================] - 2s 226us/sample - loss: 0.5529 - accuracy: 0.7585\n"
     ]
    },
    {
     "data": {
      "text/plain": [
       "[0.5529056891654017, 0.758475]"
      ]
     },
     "execution_count": 36,
     "metadata": {},
     "output_type": "execute_result"
    }
   ],
   "source": [
    "classifier.evaluate(X_valid,y_valid)"
   ]
  },
  {
   "cell_type": "code",
   "execution_count": 37,
   "metadata": {},
   "outputs": [],
   "source": [
    "Final =classifier.predict(Testing_set)"
   ]
  },
  {
   "cell_type": "code",
   "execution_count": 38,
   "metadata": {},
   "outputs": [],
   "source": [
    "Test_id =Test_data['ID']"
   ]
  },
  {
   "cell_type": "code",
   "execution_count": null,
   "metadata": {},
   "outputs": [],
   "source": [
    "Final!D =Final.flatten()"
   ]
  },
  {
   "cell_type": "code",
   "execution_count": 39,
   "metadata": {},
   "outputs": [
    {
     "ename": "Exception",
     "evalue": "Data must be 1-dimensional",
     "output_type": "error",
     "traceback": [
      "\u001b[1;31m---------------------------------------------------------------------------\u001b[0m",
      "\u001b[1;31mException\u001b[0m                                 Traceback (most recent call last)",
      "\u001b[1;32m<ipython-input-39-7b62d25b9705>\u001b[0m in \u001b[0;36m<module>\u001b[1;34m\u001b[0m\n\u001b[0;32m      1\u001b[0m \u001b[1;32mimport\u001b[0m \u001b[0mpandas\u001b[0m\u001b[1;33m\u001b[0m\u001b[1;33m\u001b[0m\u001b[0m\n\u001b[1;32m----> 2\u001b[1;33m \u001b[0mdf\u001b[0m \u001b[1;33m=\u001b[0m \u001b[0mpandas\u001b[0m\u001b[1;33m.\u001b[0m\u001b[0mDataFrame\u001b[0m\u001b[1;33m(\u001b[0m\u001b[0mdata\u001b[0m\u001b[1;33m=\u001b[0m\u001b[1;33m{\u001b[0m\u001b[1;34m\"col1\"\u001b[0m\u001b[1;33m:\u001b[0m\u001b[0mTest_id\u001b[0m \u001b[1;33m,\u001b[0m \u001b[1;34m\"col2\"\u001b[0m\u001b[1;33m:\u001b[0m\u001b[0mFinal\u001b[0m \u001b[1;33m}\u001b[0m\u001b[1;33m)\u001b[0m\u001b[1;33m\u001b[0m\u001b[1;33m\u001b[0m\u001b[0m\n\u001b[0m\u001b[0;32m      3\u001b[0m \u001b[0mdf\u001b[0m\u001b[1;33m.\u001b[0m\u001b[0mto_csv\u001b[0m\u001b[1;33m(\u001b[0m\u001b[1;34m\"./finalResult.csv\"\u001b[0m\u001b[1;33m,\u001b[0m \u001b[0msep\u001b[0m\u001b[1;33m=\u001b[0m\u001b[1;34m','\u001b[0m\u001b[1;33m,\u001b[0m\u001b[0mindex\u001b[0m\u001b[1;33m=\u001b[0m\u001b[1;32mFalse\u001b[0m\u001b[1;33m)\u001b[0m\u001b[1;33m\u001b[0m\u001b[1;33m\u001b[0m\u001b[0m\n",
      "\u001b[1;32m~\\.conda\\envs\\new\\lib\\site-packages\\pandas\\core\\frame.py\u001b[0m in \u001b[0;36m__init__\u001b[1;34m(self, data, index, columns, dtype, copy)\u001b[0m\n\u001b[0;32m    409\u001b[0m             )\n\u001b[0;32m    410\u001b[0m         \u001b[1;32melif\u001b[0m \u001b[0misinstance\u001b[0m\u001b[1;33m(\u001b[0m\u001b[0mdata\u001b[0m\u001b[1;33m,\u001b[0m \u001b[0mdict\u001b[0m\u001b[1;33m)\u001b[0m\u001b[1;33m:\u001b[0m\u001b[1;33m\u001b[0m\u001b[1;33m\u001b[0m\u001b[0m\n\u001b[1;32m--> 411\u001b[1;33m             \u001b[0mmgr\u001b[0m \u001b[1;33m=\u001b[0m \u001b[0minit_dict\u001b[0m\u001b[1;33m(\u001b[0m\u001b[0mdata\u001b[0m\u001b[1;33m,\u001b[0m \u001b[0mindex\u001b[0m\u001b[1;33m,\u001b[0m \u001b[0mcolumns\u001b[0m\u001b[1;33m,\u001b[0m \u001b[0mdtype\u001b[0m\u001b[1;33m=\u001b[0m\u001b[0mdtype\u001b[0m\u001b[1;33m)\u001b[0m\u001b[1;33m\u001b[0m\u001b[1;33m\u001b[0m\u001b[0m\n\u001b[0m\u001b[0;32m    412\u001b[0m         \u001b[1;32melif\u001b[0m \u001b[0misinstance\u001b[0m\u001b[1;33m(\u001b[0m\u001b[0mdata\u001b[0m\u001b[1;33m,\u001b[0m \u001b[0mma\u001b[0m\u001b[1;33m.\u001b[0m\u001b[0mMaskedArray\u001b[0m\u001b[1;33m)\u001b[0m\u001b[1;33m:\u001b[0m\u001b[1;33m\u001b[0m\u001b[1;33m\u001b[0m\u001b[0m\n\u001b[0;32m    413\u001b[0m             \u001b[1;32mimport\u001b[0m \u001b[0mnumpy\u001b[0m\u001b[1;33m.\u001b[0m\u001b[0mma\u001b[0m\u001b[1;33m.\u001b[0m\u001b[0mmrecords\u001b[0m \u001b[1;32mas\u001b[0m \u001b[0mmrecords\u001b[0m\u001b[1;33m\u001b[0m\u001b[1;33m\u001b[0m\u001b[0m\n",
      "\u001b[1;32m~\\.conda\\envs\\new\\lib\\site-packages\\pandas\\core\\internals\\construction.py\u001b[0m in \u001b[0;36minit_dict\u001b[1;34m(data, index, columns, dtype)\u001b[0m\n\u001b[0;32m    255\u001b[0m             \u001b[0marr\u001b[0m \u001b[1;32mif\u001b[0m \u001b[1;32mnot\u001b[0m \u001b[0mis_datetime64tz_dtype\u001b[0m\u001b[1;33m(\u001b[0m\u001b[0marr\u001b[0m\u001b[1;33m)\u001b[0m \u001b[1;32melse\u001b[0m \u001b[0marr\u001b[0m\u001b[1;33m.\u001b[0m\u001b[0mcopy\u001b[0m\u001b[1;33m(\u001b[0m\u001b[1;33m)\u001b[0m \u001b[1;32mfor\u001b[0m \u001b[0marr\u001b[0m \u001b[1;32min\u001b[0m \u001b[0marrays\u001b[0m\u001b[1;33m\u001b[0m\u001b[1;33m\u001b[0m\u001b[0m\n\u001b[0;32m    256\u001b[0m         ]\n\u001b[1;32m--> 257\u001b[1;33m     \u001b[1;32mreturn\u001b[0m \u001b[0marrays_to_mgr\u001b[0m\u001b[1;33m(\u001b[0m\u001b[0marrays\u001b[0m\u001b[1;33m,\u001b[0m \u001b[0mdata_names\u001b[0m\u001b[1;33m,\u001b[0m \u001b[0mindex\u001b[0m\u001b[1;33m,\u001b[0m \u001b[0mcolumns\u001b[0m\u001b[1;33m,\u001b[0m \u001b[0mdtype\u001b[0m\u001b[1;33m=\u001b[0m\u001b[0mdtype\u001b[0m\u001b[1;33m)\u001b[0m\u001b[1;33m\u001b[0m\u001b[1;33m\u001b[0m\u001b[0m\n\u001b[0m\u001b[0;32m    258\u001b[0m \u001b[1;33m\u001b[0m\u001b[0m\n\u001b[0;32m    259\u001b[0m \u001b[1;33m\u001b[0m\u001b[0m\n",
      "\u001b[1;32m~\\.conda\\envs\\new\\lib\\site-packages\\pandas\\core\\internals\\construction.py\u001b[0m in \u001b[0;36marrays_to_mgr\u001b[1;34m(arrays, arr_names, index, columns, dtype)\u001b[0m\n\u001b[0;32m     80\u001b[0m \u001b[1;33m\u001b[0m\u001b[0m\n\u001b[0;32m     81\u001b[0m     \u001b[1;31m# don't force copy because getting jammed in an ndarray anyway\u001b[0m\u001b[1;33m\u001b[0m\u001b[1;33m\u001b[0m\u001b[1;33m\u001b[0m\u001b[0m\n\u001b[1;32m---> 82\u001b[1;33m     \u001b[0marrays\u001b[0m \u001b[1;33m=\u001b[0m \u001b[0m_homogenize\u001b[0m\u001b[1;33m(\u001b[0m\u001b[0marrays\u001b[0m\u001b[1;33m,\u001b[0m \u001b[0mindex\u001b[0m\u001b[1;33m,\u001b[0m \u001b[0mdtype\u001b[0m\u001b[1;33m)\u001b[0m\u001b[1;33m\u001b[0m\u001b[1;33m\u001b[0m\u001b[0m\n\u001b[0m\u001b[0;32m     83\u001b[0m \u001b[1;33m\u001b[0m\u001b[0m\n\u001b[0;32m     84\u001b[0m     \u001b[1;31m# from BlockManager perspective\u001b[0m\u001b[1;33m\u001b[0m\u001b[1;33m\u001b[0m\u001b[1;33m\u001b[0m\u001b[0m\n",
      "\u001b[1;32m~\\.conda\\envs\\new\\lib\\site-packages\\pandas\\core\\internals\\construction.py\u001b[0m in \u001b[0;36m_homogenize\u001b[1;34m(data, index, dtype)\u001b[0m\n\u001b[0;32m    321\u001b[0m                 \u001b[0mval\u001b[0m \u001b[1;33m=\u001b[0m \u001b[0mlib\u001b[0m\u001b[1;33m.\u001b[0m\u001b[0mfast_multiget\u001b[0m\u001b[1;33m(\u001b[0m\u001b[0mval\u001b[0m\u001b[1;33m,\u001b[0m \u001b[0moindex\u001b[0m\u001b[1;33m.\u001b[0m\u001b[0mvalues\u001b[0m\u001b[1;33m,\u001b[0m \u001b[0mdefault\u001b[0m\u001b[1;33m=\u001b[0m\u001b[0mnp\u001b[0m\u001b[1;33m.\u001b[0m\u001b[0mnan\u001b[0m\u001b[1;33m)\u001b[0m\u001b[1;33m\u001b[0m\u001b[1;33m\u001b[0m\u001b[0m\n\u001b[0;32m    322\u001b[0m             val = sanitize_array(\n\u001b[1;32m--> 323\u001b[1;33m                 \u001b[0mval\u001b[0m\u001b[1;33m,\u001b[0m \u001b[0mindex\u001b[0m\u001b[1;33m,\u001b[0m \u001b[0mdtype\u001b[0m\u001b[1;33m=\u001b[0m\u001b[0mdtype\u001b[0m\u001b[1;33m,\u001b[0m \u001b[0mcopy\u001b[0m\u001b[1;33m=\u001b[0m\u001b[1;32mFalse\u001b[0m\u001b[1;33m,\u001b[0m \u001b[0mraise_cast_failure\u001b[0m\u001b[1;33m=\u001b[0m\u001b[1;32mFalse\u001b[0m\u001b[1;33m\u001b[0m\u001b[1;33m\u001b[0m\u001b[0m\n\u001b[0m\u001b[0;32m    324\u001b[0m             )\n\u001b[0;32m    325\u001b[0m \u001b[1;33m\u001b[0m\u001b[0m\n",
      "\u001b[1;32m~\\.conda\\envs\\new\\lib\\site-packages\\pandas\\core\\internals\\construction.py\u001b[0m in \u001b[0;36msanitize_array\u001b[1;34m(data, index, dtype, copy, raise_cast_failure)\u001b[0m\n\u001b[0;32m    727\u001b[0m     \u001b[1;32melif\u001b[0m \u001b[0msubarr\u001b[0m\u001b[1;33m.\u001b[0m\u001b[0mndim\u001b[0m \u001b[1;33m>\u001b[0m \u001b[1;36m1\u001b[0m\u001b[1;33m:\u001b[0m\u001b[1;33m\u001b[0m\u001b[1;33m\u001b[0m\u001b[0m\n\u001b[0;32m    728\u001b[0m         \u001b[1;32mif\u001b[0m \u001b[0misinstance\u001b[0m\u001b[1;33m(\u001b[0m\u001b[0mdata\u001b[0m\u001b[1;33m,\u001b[0m \u001b[0mnp\u001b[0m\u001b[1;33m.\u001b[0m\u001b[0mndarray\u001b[0m\u001b[1;33m)\u001b[0m\u001b[1;33m:\u001b[0m\u001b[1;33m\u001b[0m\u001b[1;33m\u001b[0m\u001b[0m\n\u001b[1;32m--> 729\u001b[1;33m             \u001b[1;32mraise\u001b[0m \u001b[0mException\u001b[0m\u001b[1;33m(\u001b[0m\u001b[1;34m\"Data must be 1-dimensional\"\u001b[0m\u001b[1;33m)\u001b[0m\u001b[1;33m\u001b[0m\u001b[1;33m\u001b[0m\u001b[0m\n\u001b[0m\u001b[0;32m    730\u001b[0m         \u001b[1;32melse\u001b[0m\u001b[1;33m:\u001b[0m\u001b[1;33m\u001b[0m\u001b[1;33m\u001b[0m\u001b[0m\n\u001b[0;32m    731\u001b[0m             \u001b[0msubarr\u001b[0m \u001b[1;33m=\u001b[0m \u001b[0mcom\u001b[0m\u001b[1;33m.\u001b[0m\u001b[0masarray_tuplesafe\u001b[0m\u001b[1;33m(\u001b[0m\u001b[0mdata\u001b[0m\u001b[1;33m,\u001b[0m \u001b[0mdtype\u001b[0m\u001b[1;33m=\u001b[0m\u001b[0mdtype\u001b[0m\u001b[1;33m)\u001b[0m\u001b[1;33m\u001b[0m\u001b[1;33m\u001b[0m\u001b[0m\n",
      "\u001b[1;31mException\u001b[0m: Data must be 1-dimensional"
     ]
    }
   ],
   "source": [
    "import pandas\n",
    "df = pandas.DataFrame(data={\"col1\":Test_id , \"col2\":Final })\n",
    "df.to_csv(\"./finalResult.csv\", sep=',',index=False)"
   ]
  }
 ],
 "metadata": {
  "kernelspec": {
   "display_name": "Python 3",
   "language": "python",
   "name": "python3"
  },
  "language_info": {
   "codemirror_mode": {
    "name": "ipython",
    "version": 3
   },
   "file_extension": ".py",
   "mimetype": "text/x-python",
   "name": "python",
   "nbconvert_exporter": "python",
   "pygments_lexer": "ipython3",
   "version": "3.6.9"
  }
 },
 "nbformat": 4,
 "nbformat_minor": 2
}
